{
 "cells": [
  {
   "cell_type": "markdown",
   "metadata": {
    "id": "fXyErK3La9VY"
   },
   "source": [
    "## Import Library yg dibutuhkan"
   ]
  },
  {
   "cell_type": "code",
   "execution_count": null,
   "metadata": {
    "id": "o-sY0DCpa9Vi"
   },
   "outputs": [],
   "source": [
    "import pandas as pd\n",
    "import matplotlib.pyplot as plt\n",
    "#tambahkan library sesuai kebutuhan"
   ]
  },
  {
   "cell_type": "code",
   "execution_count": null,
   "metadata": {
    "id": "mdVVIvqIa9Vm"
   },
   "outputs": [],
   "source": [
    "data = pd.read_csv('activity_km_07_01.csv')"
   ]
  },
  {
   "cell_type": "code",
   "execution_count": null,
   "metadata": {
    "id": "Kwh2UjUMa9Vo",
    "outputId": "80353577-c17a-4475-829a-6883dfbf76be"
   },
   "outputs": [
    {
     "data": {
      "text/html": [
       "<div>\n",
       "<style scoped>\n",
       "    .dataframe tbody tr th:only-of-type {\n",
       "        vertical-align: middle;\n",
       "    }\n",
       "\n",
       "    .dataframe tbody tr th {\n",
       "        vertical-align: top;\n",
       "    }\n",
       "\n",
       "    .dataframe thead th {\n",
       "        text-align: right;\n",
       "    }\n",
       "</style>\n",
       "<table border=\"1\" class=\"dataframe\">\n",
       "  <thead>\n",
       "    <tr style=\"text-align: right;\">\n",
       "      <th></th>\n",
       "      <th>PH</th>\n",
       "      <th>cahaya</th>\n",
       "      <th>intensitas air</th>\n",
       "      <th>suhu</th>\n",
       "      <th>PPM</th>\n",
       "      <th>tinggi air</th>\n",
       "      <th>aksi</th>\n",
       "    </tr>\n",
       "  </thead>\n",
       "  <tbody>\n",
       "    <tr>\n",
       "      <th>0</th>\n",
       "      <td>6.5</td>\n",
       "      <td>Ada</td>\n",
       "      <td>Tinggi</td>\n",
       "      <td>27.0</td>\n",
       "      <td>188.0</td>\n",
       "      <td>622</td>\n",
       "      <td>Hidupkan Lampu dan Pompa nutrisi TDS</td>\n",
       "    </tr>\n",
       "    <tr>\n",
       "      <th>1</th>\n",
       "      <td>5.7</td>\n",
       "      <td>Ada</td>\n",
       "      <td>Tinggi</td>\n",
       "      <td>26.9</td>\n",
       "      <td>79.0</td>\n",
       "      <td>557</td>\n",
       "      <td>Hidupkan Lampu dan Pompa nutrisi TDS</td>\n",
       "    </tr>\n",
       "    <tr>\n",
       "      <th>2</th>\n",
       "      <td>6.0</td>\n",
       "      <td>Ada</td>\n",
       "      <td>Tinggi</td>\n",
       "      <td>27.0</td>\n",
       "      <td>11.0</td>\n",
       "      <td>491</td>\n",
       "      <td>Hidupkan Lampu dan Pompa nutrisi TDS</td>\n",
       "    </tr>\n",
       "    <tr>\n",
       "      <th>3</th>\n",
       "      <td>6.5</td>\n",
       "      <td>Ada</td>\n",
       "      <td>Tinggi</td>\n",
       "      <td>27.1</td>\n",
       "      <td>345.0</td>\n",
       "      <td>12000</td>\n",
       "      <td>Tidak melakukan apa-apa</td>\n",
       "    </tr>\n",
       "    <tr>\n",
       "      <th>4</th>\n",
       "      <td>6.2</td>\n",
       "      <td>NaN</td>\n",
       "      <td>Tinggi</td>\n",
       "      <td>27.1</td>\n",
       "      <td>602.0</td>\n",
       "      <td>444</td>\n",
       "      <td>Tidak melakukan apa-apa</td>\n",
       "    </tr>\n",
       "    <tr>\n",
       "      <th>...</th>\n",
       "      <td>...</td>\n",
       "      <td>...</td>\n",
       "      <td>...</td>\n",
       "      <td>...</td>\n",
       "      <td>...</td>\n",
       "      <td>...</td>\n",
       "      <td>...</td>\n",
       "    </tr>\n",
       "    <tr>\n",
       "      <th>611</th>\n",
       "      <td>4.6</td>\n",
       "      <td>Ada</td>\n",
       "      <td>Rendah sekali</td>\n",
       "      <td>25.3</td>\n",
       "      <td>904.0</td>\n",
       "      <td>47</td>\n",
       "      <td>Hidupkan Lampu</td>\n",
       "    </tr>\n",
       "    <tr>\n",
       "      <th>612</th>\n",
       "      <td>2.1</td>\n",
       "      <td>Ada</td>\n",
       "      <td>Rendah sekali</td>\n",
       "      <td>25.0</td>\n",
       "      <td>388.0</td>\n",
       "      <td>18</td>\n",
       "      <td>Hidupkan Lampu dan Pompa nutrisi TDS</td>\n",
       "    </tr>\n",
       "    <tr>\n",
       "      <th>613</th>\n",
       "      <td>3.2</td>\n",
       "      <td>Ada</td>\n",
       "      <td>Rendah sekali</td>\n",
       "      <td>25.3</td>\n",
       "      <td>793.0</td>\n",
       "      <td>19</td>\n",
       "      <td>Hidupkan Lampu</td>\n",
       "    </tr>\n",
       "    <tr>\n",
       "      <th>614</th>\n",
       "      <td>1.4</td>\n",
       "      <td>Ada</td>\n",
       "      <td>Rendah sekali</td>\n",
       "      <td>25.4</td>\n",
       "      <td>1052.0</td>\n",
       "      <td>3</td>\n",
       "      <td>Hidupkan Lampu</td>\n",
       "    </tr>\n",
       "    <tr>\n",
       "      <th>615</th>\n",
       "      <td>5.0</td>\n",
       "      <td>Ada</td>\n",
       "      <td>Rendah sekali</td>\n",
       "      <td>25.3</td>\n",
       "      <td>977.0</td>\n",
       "      <td>19</td>\n",
       "      <td>Hidupkan Lampu</td>\n",
       "    </tr>\n",
       "  </tbody>\n",
       "</table>\n",
       "<p>616 rows × 7 columns</p>\n",
       "</div>"
      ],
      "text/plain": [
       "      PH cahaya intensitas air  suhu     PPM  tinggi air  \\\n",
       "0    6.5    Ada         Tinggi  27.0   188.0         622   \n",
       "1    5.7    Ada         Tinggi  26.9    79.0         557   \n",
       "2    6.0    Ada         Tinggi  27.0    11.0         491   \n",
       "3    6.5    Ada         Tinggi  27.1   345.0       12000   \n",
       "4    6.2    NaN         Tinggi  27.1   602.0         444   \n",
       "..   ...    ...            ...   ...     ...         ...   \n",
       "611  4.6    Ada  Rendah sekali  25.3   904.0          47   \n",
       "612  2.1    Ada  Rendah sekali  25.0   388.0          18   \n",
       "613  3.2    Ada  Rendah sekali  25.3   793.0          19   \n",
       "614  1.4    Ada  Rendah sekali  25.4  1052.0           3   \n",
       "615  5.0    Ada  Rendah sekali  25.3   977.0          19   \n",
       "\n",
       "                                     aksi  \n",
       "0    Hidupkan Lampu dan Pompa nutrisi TDS  \n",
       "1    Hidupkan Lampu dan Pompa nutrisi TDS  \n",
       "2    Hidupkan Lampu dan Pompa nutrisi TDS  \n",
       "3                 Tidak melakukan apa-apa  \n",
       "4                 Tidak melakukan apa-apa  \n",
       "..                                    ...  \n",
       "611                        Hidupkan Lampu  \n",
       "612  Hidupkan Lampu dan Pompa nutrisi TDS  \n",
       "613                        Hidupkan Lampu  \n",
       "614                        Hidupkan Lampu  \n",
       "615                        Hidupkan Lampu  \n",
       "\n",
       "[616 rows x 7 columns]"
      ]
     },
     "execution_count": 3,
     "metadata": {},
     "output_type": "execute_result"
    }
   ],
   "source": [
    "data"
   ]
  },
  {
   "cell_type": "markdown",
   "metadata": {
    "id": "WZ3GE8pya9Vr"
   },
   "source": [
    "## 1. Mengganti nama kolom yang menggunakan spasi"
   ]
  },
  {
   "cell_type": "code",
   "execution_count": null,
   "metadata": {
    "id": "v0csWHwRa9Vs"
   },
   "outputs": [],
   "source": [
    "#isi code"
   ]
  },
  {
   "cell_type": "markdown",
   "metadata": {
    "id": "vCYDhpdfa9Vt"
   },
   "source": [
    "## 2. Mengganti data kategorikal menjadi bentuk numerical (Clue : Labelencoder tidak bekerja ketika ada missing value, gunakan metode lain)"
   ]
  },
  {
   "cell_type": "code",
   "execution_count": null,
   "metadata": {
    "id": "HNAJfwlCa9Vu"
   },
   "outputs": [],
   "source": [
    "#Isi Code"
   ]
  },
  {
   "cell_type": "markdown",
   "metadata": {
    "id": "W5Ka60uYa9Vv"
   },
   "source": [
    "## 3. Handle Missing Value"
   ]
  },
  {
   "cell_type": "code",
   "execution_count": null,
   "metadata": {
    "id": "z6BbPoqPa9Vv"
   },
   "outputs": [],
   "source": [
    "#Isi Code"
   ]
  },
  {
   "cell_type": "markdown",
   "metadata": {
    "id": "GELQ5uyda9Vw"
   },
   "source": [
    "## 4. Detect outliers dan handling (bisa dihapus atau diganti nilainya dengan mean/modus/median)"
   ]
  },
  {
   "cell_type": "code",
   "execution_count": null,
   "metadata": {
    "id": "ll-868ipa9Vx"
   },
   "outputs": [],
   "source": [
    "#Isi Code"
   ]
  },
  {
   "cell_type": "markdown",
   "metadata": {
    "id": "EFQ0YfYLa9Vy"
   },
   "source": [
    "## 5. Pisahkan data feature dengan label"
   ]
  },
  {
   "cell_type": "code",
   "execution_count": null,
   "metadata": {
    "id": "Jjxt06KTa9Vy"
   },
   "outputs": [],
   "source": [
    "#Isi Code"
   ]
  },
  {
   "cell_type": "markdown",
   "metadata": {
    "id": "YCGKwPFra9Vz"
   },
   "source": [
    "## 6. Check Imbalanced Dataset, jika imbalanced, gunakan smote"
   ]
  },
  {
   "cell_type": "code",
   "execution_count": null,
   "metadata": {
    "id": "5YI-izdXa9V0"
   },
   "outputs": [],
   "source": [
    "#pip install imbalanced-learn"
   ]
  },
  {
   "cell_type": "code",
   "execution_count": null,
   "metadata": {
    "id": "DIfkA5_da9V0"
   },
   "outputs": [],
   "source": [
    "#Isi Code"
   ]
  },
  {
   "cell_type": "markdown",
   "metadata": {
    "id": "2gLiWKVza9V1"
   },
   "source": [
    "## 7. Visualisasikan Tiap feature dengan label"
   ]
  },
  {
   "cell_type": "code",
   "execution_count": null,
   "metadata": {
    "id": "hJMzN-gMa9V2"
   },
   "outputs": [],
   "source": [
    "#Isi Code"
   ]
  },
  {
   "cell_type": "markdown",
   "metadata": {
    "id": "byMOPkmra9V2"
   },
   "source": [
    "## 8. Lakukan Normalization menggunakan MinMaxScaler atau Standardization menggunakan StandarScaler"
   ]
  },
  {
   "cell_type": "code",
   "execution_count": null,
   "metadata": {
    "id": "i0XxulQra9V3"
   },
   "outputs": [],
   "source": [
    "#Isi Kode"
   ]
  },
  {
   "cell_type": "markdown",
   "metadata": {
    "id": "FJpwBxZfa9V3"
   },
   "source": [
    "## 9. Buat model ANN"
   ]
  },
  {
   "cell_type": "code",
   "execution_count": null,
   "metadata": {
    "id": "1Zo0ODA8a9V4"
   },
   "outputs": [],
   "source": [
    "#Isi Code"
   ]
  },
  {
   "cell_type": "markdown",
   "metadata": {
    "id": "ZVuY2QdwW6dO"
   },
   "source": [
    "## 10. Build Model KNN"
   ]
  },
  {
   "cell_type": "code",
   "execution_count": null,
   "metadata": {
    "id": "Dks_OpdeW9fY"
   },
   "outputs": [],
   "source": []
  }
 ],
 "metadata": {
  "colab": {
   "collapsed_sections": [],
   "name": "KM_07_01_Student.ipynb",
   "provenance": []
  },
  "kernelspec": {
   "display_name": "Python 3",
   "language": "python",
   "name": "python3"
  },
  "language_info": {
   "codemirror_mode": {
    "name": "ipython",
    "version": 3
   },
   "file_extension": ".py",
   "mimetype": "text/x-python",
   "name": "python",
   "nbconvert_exporter": "python",
   "pygments_lexer": "ipython3",
   "version": "3.8.8"
  }
 },
 "nbformat": 4,
 "nbformat_minor": 1
}
